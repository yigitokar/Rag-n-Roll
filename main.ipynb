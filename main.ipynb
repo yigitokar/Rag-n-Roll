{
 "cells": [
  {
   "attachments": {},
   "cell_type": "markdown",
   "metadata": {},
   "source": [
    "# RAG: Data Ingestion and Retrieval for complex documents\n",
    "\n"
   ]
  },
  {
   "cell_type": "code",
   "execution_count": 2,
   "metadata": {},
   "outputs": [],
   "source": [
    "import time\n",
    "from typing import List, Optional, Union\n",
    "\n",
    "from langchain_community.chat_models import ChatOllama\n",
    "from langchain_core.output_parsers import StrOutputParser\n",
    "from langchain_core.prompts import ChatPromptTemplate\n",
    "from rag_101.retriever import (\n",
    "    create_parent_retriever,\n",
    "    load_embedding_model,\n",
    "    load_pdf,\n",
    "    load_reranker_model,\n",
    "    retrieve_context,\n",
    ")\n",
    "from rich import print"
   ]
  },
  {
   "attachments": {},
   "cell_type": "markdown",
   "metadata": {},
   "source": [
    "Load PDF documents and create retriever"
   ]
  },
  {
   "cell_type": "code",
   "execution_count": 3,
   "metadata": {},
   "outputs": [
    {
     "name": "stderr",
     "output_type": "stream",
     "text": [
      "The PDF <_io.BufferedReader name='/teamspace/studios/this_studio/example_data/x-t30.pdf'> contains a metadata field indicating that it should not allow text extraction. Ignoring this field and proceeding. Use the check_extractable if you want to raise an error in this case\n"
     ]
    }
   ],
   "source": [
    "files = [\n",
    "    \"/teamspace/studios/this_studio/example_data/x-t30.pdf\",  # DocLLM paper\n",
    "]\n",
    "\n",
    "docs = load_pdf(files=files)\n",
    "\n",
    "embedding_model = load_embedding_model()\n",
    "retriever = create_parent_retriever(docs, embedding_model)\n",
    "reranker_model = load_reranker_model()"
   ]
  },
  {
   "attachments": {},
   "cell_type": "markdown",
   "metadata": {},
   "source": [
    "Initialize Langchain's Ollama Chat API integration using `mistral` model and create the chain with prompt template."
   ]
  },
  {
   "cell_type": "code",
   "execution_count": 4,
   "metadata": {},
   "outputs": [],
   "source": [
    "llm = ChatOllama(model=\"mistral\")\n",
    "prompt_template = ChatPromptTemplate.from_template(\n",
    "    (\n",
    "        \"Please answer the following question based on the provided `context` that follows the question.\\n\"\n",
    "        \"If you do not know the answer then just say 'I do not know'\\n\"\n",
    "        \"question: {question}\\n\"\n",
    "        \"context: ```{context}```\\n\"\n",
    "    )\n",
    ")\n",
    "chain = prompt_template | llm | StrOutputParser()"
   ]
  },
  {
   "attachments": {},
   "cell_type": "markdown",
   "metadata": {},
   "source": [
    "Retrieve document and run the chain using `context` and `question`."
   ]
  },
  {
   "cell_type": "code",
   "execution_count": 5,
   "metadata": {},
   "outputs": [
    {
     "data": {
      "text/html": [
       "<pre style=\"white-space:pre;overflow-x:auto;line-height:normal;font-family:Menlo,'DejaVu Sans Mono',consolas,'Courier New',monospace\">LLM Response:  I do not know. The context provided does not give any information about the source of the dataset \n",
       "the model was trained on.\n",
       "</pre>\n"
      ],
      "text/plain": [
       "LLM Response:  I do not know. The context provided does not give any information about the source of the dataset \n",
       "the model was trained on.\n"
      ]
     },
     "metadata": {},
     "output_type": "display_data"
    }
   ],
   "source": [
    "query = \"What is the source of the dataset the model was trained on?\"\n",
    "context, similarity_score = retrieve_context(query, retriever, reranker_model)[0]\n",
    "context = context.page_content\n",
    "\n",
    "output = chain.invoke({\"context\": context, \"question\": query})\n",
    "print(\"LLM Response:\", output)"
   ]
  },
  {
   "cell_type": "code",
   "execution_count": null,
   "metadata": {},
   "outputs": [],
   "source": []
  },
  {
   "cell_type": "code",
   "execution_count": 13,
   "metadata": {},
   "outputs": [],
   "source": [
    "# Run through some sample queries\n",
    "samples = [\n",
    "    \"How do I configure my camera to take photos automatically at a preset interval\",\n",
    "    \"How do I adjust camera's sensitivity to light?\",\n",
    "    \"My pictures are turning out darker than I want, what should I do\"\n",
    "]"
   ]
  },
  {
   "cell_type": "code",
   "execution_count": 14,
   "metadata": {},
   "outputs": [
    {
     "data": {
      "text/html": [
       "<pre style=\"white-space:pre;overflow-x:auto;line-height:normal;font-family:Menlo,'DejaVu Sans Mono',consolas,'Courier New',monospace\">How do I configure my camera to take photos automatically at a preset interval\n",
       "</pre>\n"
      ],
      "text/plain": [
       "How do I configure my camera to take photos automatically at a preset interval\n"
      ]
     },
     "metadata": {},
     "output_type": "display_data"
    },
    {
     "data": {
      "text/html": [
       "<pre style=\"white-space:pre;overflow-x:auto;line-height:normal;font-family:Menlo,'DejaVu Sans Mono',consolas,'Courier New',monospace\">LLM Response:  To configure your camera to take photos automatically at a preset interval, follow these steps as \n",
       "described in the context:\n",
       "\n",
       "<span style=\"color: #008080; text-decoration-color: #008080; font-weight: bold\">1</span>. Highlight INTERVAL TIMER SHOOTING in the A <span style=\"font-weight: bold\">(</span>SHOOTING SETTING<span style=\"font-weight: bold\">)</span> tab and press MENU/OK.\n",
       "<span style=\"color: #008080; text-decoration-color: #008080; font-weight: bold\">2</span>. Use the focus stick <span style=\"font-weight: bold\">(</span>focus lever<span style=\"font-weight: bold\">)</span> to choose the interval and number of shots. Press MENU/OK to proceed.\n",
       "<span style=\"color: #008080; text-decoration-color: #008080; font-weight: bold\">3</span>. Use the focus stick to choose the starting time and then press MENU/OK. Shooting will start automatically.\n",
       "\n",
       "Remember that interval timer photography cannot be used at a shutter speed of B <span style=\"font-weight: bold\">(</span>bulb<span style=\"font-weight: bold\">)</span> or with multiple exposure \n",
       "photography. Using a tripod is recommended for stability, and an AC-5VG AC power adapter can be used to ensure a \n",
       "continuous power supply for longer shoots. The display turns off between shots but can be activated by pressing the\n",
       "shutter button at any time. To continue shooting until the memory card is full, set the number of shots to ∞.\n",
       "</pre>\n"
      ],
      "text/plain": [
       "LLM Response:  To configure your camera to take photos automatically at a preset interval, follow these steps as \n",
       "described in the context:\n",
       "\n",
       "\u001b[1;36m1\u001b[0m. Highlight INTERVAL TIMER SHOOTING in the A \u001b[1m(\u001b[0mSHOOTING SETTING\u001b[1m)\u001b[0m tab and press MENU/OK.\n",
       "\u001b[1;36m2\u001b[0m. Use the focus stick \u001b[1m(\u001b[0mfocus lever\u001b[1m)\u001b[0m to choose the interval and number of shots. Press MENU/OK to proceed.\n",
       "\u001b[1;36m3\u001b[0m. Use the focus stick to choose the starting time and then press MENU/OK. Shooting will start automatically.\n",
       "\n",
       "Remember that interval timer photography cannot be used at a shutter speed of B \u001b[1m(\u001b[0mbulb\u001b[1m)\u001b[0m or with multiple exposure \n",
       "photography. Using a tripod is recommended for stability, and an AC-5VG AC power adapter can be used to ensure a \n",
       "continuous power supply for longer shoots. The display turns off between shots but can be activated by pressing the\n",
       "shutter button at any time. To continue shooting until the memory card is full, set the number of shots to ∞.\n"
      ]
     },
     "metadata": {},
     "output_type": "display_data"
    },
    {
     "data": {
      "text/html": [
       "<pre style=\"white-space:pre;overflow-x:auto;line-height:normal;font-family:Menlo,'DejaVu Sans Mono',consolas,'Courier New',monospace\">\n",
       " ==================================================================================================== \n",
       "\n",
       "\n",
       "</pre>\n"
      ],
      "text/plain": [
       "\n",
       " ==================================================================================================== \n",
       "\n",
       "\n"
      ]
     },
     "metadata": {},
     "output_type": "display_data"
    },
    {
     "data": {
      "text/html": [
       "<pre style=\"white-space:pre;overflow-x:auto;line-height:normal;font-family:Menlo,'DejaVu Sans Mono',consolas,'Courier New',monospace\">How do I adjust camera's sensitivity to light?\n",
       "</pre>\n"
      ],
      "text/plain": [
       "How do I adjust camera's sensitivity to light?\n"
      ]
     },
     "metadata": {},
     "output_type": "display_data"
    },
    {
     "data": {
      "text/html": [
       "<pre style=\"white-space:pre;overflow-x:auto;line-height:normal;font-family:Menlo,'DejaVu Sans Mono',consolas,'Courier New',monospace\">LLM Response:  To adjust the camera's sensitivity to light, look for the ISO setting in the shooting menus. You can\n",
       "find it on line <span style=\"color: #008080; text-decoration-color: #008080; font-weight: bold\">13</span> and <span style=\"color: #008080; text-decoration-color: #008080; font-weight: bold\">14</span> of the provided context. There are several options for adjusting sensitivity: AUTO1, \n",
       "AUTO2, AUTO3, H <span style=\"font-weight: bold\">(</span><span style=\"color: #008080; text-decoration-color: #008080; font-weight: bold\">51200</span><span style=\"font-weight: bold\">)</span>, H <span style=\"font-weight: bold\">(</span><span style=\"color: #008080; text-decoration-color: #008080; font-weight: bold\">25600</span><span style=\"font-weight: bold\">)</span>, L <span style=\"font-weight: bold\">(</span><span style=\"color: #008080; text-decoration-color: #008080; font-weight: bold\">125</span><span style=\"font-weight: bold\">)</span>, and L <span style=\"font-weight: bold\">(</span><span style=\"color: #008080; text-decoration-color: #008080; font-weight: bold\">100</span><span style=\"font-weight: bold\">)</span>. The camera can automatically adjust sensitivity in \n",
       "response to shooting conditions using the AUTO options, or you can manually select a specific value. Keep in mind \n",
       "that some restrictions may apply when using certain features like the electronic shutter or image stabilization \n",
       "with motion detection.\n",
       "</pre>\n"
      ],
      "text/plain": [
       "LLM Response:  To adjust the camera's sensitivity to light, look for the ISO setting in the shooting menus. You can\n",
       "find it on line \u001b[1;36m13\u001b[0m and \u001b[1;36m14\u001b[0m of the provided context. There are several options for adjusting sensitivity: AUTO1, \n",
       "AUTO2, AUTO3, H \u001b[1m(\u001b[0m\u001b[1;36m51200\u001b[0m\u001b[1m)\u001b[0m, H \u001b[1m(\u001b[0m\u001b[1;36m25600\u001b[0m\u001b[1m)\u001b[0m, L \u001b[1m(\u001b[0m\u001b[1;36m125\u001b[0m\u001b[1m)\u001b[0m, and L \u001b[1m(\u001b[0m\u001b[1;36m100\u001b[0m\u001b[1m)\u001b[0m. The camera can automatically adjust sensitivity in \n",
       "response to shooting conditions using the AUTO options, or you can manually select a specific value. Keep in mind \n",
       "that some restrictions may apply when using certain features like the electronic shutter or image stabilization \n",
       "with motion detection.\n"
      ]
     },
     "metadata": {},
     "output_type": "display_data"
    },
    {
     "data": {
      "text/html": [
       "<pre style=\"white-space:pre;overflow-x:auto;line-height:normal;font-family:Menlo,'DejaVu Sans Mono',consolas,'Courier New',monospace\">\n",
       " ==================================================================================================== \n",
       "\n",
       "\n",
       "</pre>\n"
      ],
      "text/plain": [
       "\n",
       " ==================================================================================================== \n",
       "\n",
       "\n"
      ]
     },
     "metadata": {},
     "output_type": "display_data"
    },
    {
     "data": {
      "text/html": [
       "<pre style=\"white-space:pre;overflow-x:auto;line-height:normal;font-family:Menlo,'DejaVu Sans Mono',consolas,'Courier New',monospace\">My pictures are turning out darker than I want, what should I do\n",
       "</pre>\n"
      ],
      "text/plain": [
       "My pictures are turning out darker than I want, what should I do\n"
      ]
     },
     "metadata": {},
     "output_type": "display_data"
    },
    {
     "data": {
      "text/html": [
       "<pre style=\"white-space:pre;overflow-x:auto;line-height:normal;font-family:Menlo,'DejaVu Sans Mono',consolas,'Courier New',monospace\">LLM Response:  Based on the context provided, if your pictures are turning out darker than you want, you may want \n",
       "to adjust the Exposure Compensation setting. Unfortunately, this option is not shown in the provided context. \n",
       "However, you can try adjusting the Peripheral Illumination Correction or Color Shading Correction settings as they \n",
       "might affect the brightness of your images to some extent. To access these settings, follow the steps in the \n",
       "context for <span style=\"color: #008000; text-decoration-color: #008000\">\"Color Shading Correction\"</span> and <span style=\"color: #008000; text-decoration-color: #008000\">\"Peripheral Illumination Correction\"</span>. Additionally, checking the \n",
       "exposure settings <span style=\"font-weight: bold\">(</span>Shutter Speed, Aperture, and ISO<span style=\"font-weight: bold\">)</span> can also help improve the image's brightness.\n",
       "</pre>\n"
      ],
      "text/plain": [
       "LLM Response:  Based on the context provided, if your pictures are turning out darker than you want, you may want \n",
       "to adjust the Exposure Compensation setting. Unfortunately, this option is not shown in the provided context. \n",
       "However, you can try adjusting the Peripheral Illumination Correction or Color Shading Correction settings as they \n",
       "might affect the brightness of your images to some extent. To access these settings, follow the steps in the \n",
       "context for \u001b[32m\"Color Shading Correction\"\u001b[0m and \u001b[32m\"Peripheral Illumination Correction\"\u001b[0m. Additionally, checking the \n",
       "exposure settings \u001b[1m(\u001b[0mShutter Speed, Aperture, and ISO\u001b[1m)\u001b[0m can also help improve the image's brightness.\n"
      ]
     },
     "metadata": {},
     "output_type": "display_data"
    },
    {
     "data": {
      "text/html": [
       "<pre style=\"white-space:pre;overflow-x:auto;line-height:normal;font-family:Menlo,'DejaVu Sans Mono',consolas,'Courier New',monospace\">\n",
       " ==================================================================================================== \n",
       "\n",
       "\n",
       "</pre>\n"
      ],
      "text/plain": [
       "\n",
       " ==================================================================================================== \n",
       "\n",
       "\n"
      ]
     },
     "metadata": {},
     "output_type": "display_data"
    }
   ],
   "source": [
    "for query in samples:\n",
    "    print(query)\n",
    "    context = retrieve_context(\n",
    "        query, retriever=retriever, reranker_model=reranker_model\n",
    "    )[0]\n",
    "    output = chain.invoke({\"context\": context[0].page_content, \"question\": query})\n",
    "    print(\"LLM Response:\", output)\n",
    "\n",
    "    print(\"\\n\", \"=\" * 100, \"\\n\\n\")"
   ]
  },
  {
   "cell_type": "code",
   "execution_count": null,
   "metadata": {},
   "outputs": [],
   "source": []
  },
  {
   "cell_type": "code",
   "execution_count": null,
   "metadata": {},
   "outputs": [],
   "source": []
  }
 ],
 "metadata": {
  "kernelspec": {
   "display_name": "Python 3",
   "language": "python",
   "name": "python3"
  },
  "language_info": {
   "codemirror_mode": {
    "name": "ipython",
    "version": 3
   },
   "file_extension": ".py",
   "mimetype": "text/x-python",
   "name": "python",
   "nbconvert_exporter": "python",
   "pygments_lexer": "ipython3",
   "version": "3.10.10"
  }
 },
 "nbformat": 4,
 "nbformat_minor": 4
}
